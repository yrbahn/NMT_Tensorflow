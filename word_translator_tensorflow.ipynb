{
 "cells": [
  {
   "cell_type": "code",
   "execution_count": 1,
   "metadata": {
    "collapsed": true
   },
   "outputs": [],
   "source": [
    "EASY_MODE = True\n",
    "\n",
    "MODE = \"he-to-en\"\n",
    "END = ';'  \n",
    "MAX_OUTPUT_LENGTH = 50 if not EASY_MODE else 20\n",
    "REPORT_FREQ       = 100    "
   ]
  },
  {
   "cell_type": "markdown",
   "metadata": {},
   "source": [
    "## Step1.  전처리"
   ]
  },
  {
   "cell_type": "code",
   "execution_count": 2,
   "metadata": {},
   "outputs": [
    {
     "name": "stdout",
     "output_type": "stream",
     "text": [
      "Anarchism\tאנרכיזם\r\n",
      "Autism\tאוטיזם קלאסי\r\n",
      "Albedo\tאלבדו\r\n",
      "A\tA\r\n",
      "Alabama\tאלבמה\r\n",
      "Achilles\tאכילס\r\n",
      "Abraham Lincoln\tאברהם לינקולן\r\n",
      "Aristotle\tאריסטו\r\n",
      "An American in Paris\tאמריקאי בפריז\r\n",
      "Academy Awards\tפרס אוסקר\r\n"
     ]
    }
   ],
   "source": [
    "! head -n 10 data/main_dataset.txt"
   ]
  },
  {
   "cell_type": "code",
   "execution_count": 3,
   "metadata": {},
   "outputs": [
    {
     "name": "stdout",
     "output_type": "stream",
     "text": [
      "size =  130699\n"
     ]
    }
   ],
   "source": [
    "import numpy as np\n",
    "from collections import defaultdict\n",
    "word_to_translation = defaultdict(list)\n",
    "\n",
    "with open(\"data/main_dataset.txt\") as fin:\n",
    "    for line in fin:\n",
    "        en, he = line[:-1].lower().replace(END,' ').split('\\t')\n",
    "        word, trans = (he,en) if MODE=='he-to-en' else (en,he)\n",
    "        if EASY_MODE:\n",
    "            if max(len(word), len(trans)) > 20:\n",
    "                continue\n",
    "        word_to_translation[word+END].append(trans+END)\n",
    "        \n",
    "print(\"size = \", len(word_to_translation))"
   ]
  },
  {
   "cell_type": "code",
   "execution_count": 4,
   "metadata": {},
   "outputs": [
    {
     "name": "stdout",
     "output_type": "stream",
     "text": [
      "{'c': 0, 'あ': 1, 'ぼ': 2, 'ê': 3, '一': 4, 'x': 5, 'א': 6, '×': 7, '°': 8, 'т': 9, '4': 10, 'ז': 11, 'a': 12, 'ґ': 13, 'ר': 14, 'ט': 15, 'チ': 16, 'ғ': 17, 'っ': 18, 'ו': 19, 'k': 20, '子': 21, 'ж': 22, 'ѻ': 23, '=': 24, '守': 25, 'ֿ': 26, 'б': 27, '−': 28, 'y': 29, 'ן': 30, 'н': 31, 'm': 32, 'ĵ': 33, 'þ': 34, 'č': 35, 'u': 36, 'д': 37, 'ĉ': 38, 'ׁ': 39, 'マ': 40, 'ָ': 41, '·': 42, '•': 43, 'у': 44, 'ぺ': 45, 'ױ': 46, 'к': 47, 'ص': 48, 'ѯ': 49, 'و': 50, 'á': 51, ' ': 52, '7': 53, 'f': 54, '3': 55, 'я': 56, 'ш': 57, 'ю': 58, '桜': 59, 'ç': 60, 'ד': 61, 'פ': 62, '0': 63, 'ц': 64, '’': 65, 'ø': 66, '榎': 67, 'ӡ': 68, 'כ': 69, 'س': 70, 'ث': 71, '仙': 72, 'ץ': 73, 'ÿ': 74, '野': 75, 'ش': 76, 'o': 77, 'd': 78, 'š': 79, 'í': 80, 'g': 81, 'ֵ': 82, 'る': 83, '猫': 84, 'ק': 85, 'ъ': 86, '$': 87, 't': 88, 'ع': 89, 'ĝ': 90, 'w': 91, '2': 92, '(': 93, 'コ': 94, 'ر': 95, 'è': 96, 'с': 97, 'ּ': 98, '@': 99, 'з': 100, '#': 101, 'ב': 102, 'à': 103, '門': 104, 'گ': 105, 'ò': 106, '8': 107, 'ע': 108, 'ظ': 109, 'ら': 110, 'ь': 111, 'р': 112, 'n': 113, '′': 114, ')': 115, '&': 116, '.': 117, 'ء': 118, 'ף': 119, 'ف': 120, 'о': 121, 's': 122, 'ס': 123, 'ѓ': 124, 'ń': 125, '־': 126, 'ם': 127, 'ӎ': 128, 'r': 129, 'ג': 130, '\"': 131, 'ə': 132, 'ấ': 133, 'ы': 134, 'י': 135, 'v': 136, 'л': 137, '\\\\': 138, 'г': 139, 'ח': 140, 'в': 141, 'と': 142, 'ö': 143, 'и': 144, 'ک': 145, 'а': 146, 'ذ': 147, 'ộ': 148, 'ŭ': 149, '/': 150, 'צ': 151, 'п': 152, '熊': 153, '5': 154, '!': 155, 'е': 156, 'ִ': 157, 'ҙ': 158, 'ó': 159, \"'\": 160, 'џ': 161, 'l': 162, 'p': 163, 'щ': 164, 'ß': 165, 'ﭪ': 166, 'ل': 167, 'i': 168, 'ú': 169, ',': 170, 'e': 171, '+': 172, '∂': 173, '星': 174, 'タ': 175, 'q': 176, 'ü': 177, ';': 178, 'خ': 179, ':': 180, '6': 181, '²': 182, 'غ': 183, 'ﭺ': 184, '1': 185, 'μ': 186, 'ژ': 187, 'b': 188, 'é': 189, 'z': 190, 'ך': 191, 'ŋ': 192, 'j': 193, 'ق': 194, 'ф': 195, 'ﭖ': 196, 'מ': 197, 'ě': 198, 'х': 199, '9': 200, 'い': 201, 'ת': 202, 'ی': 203, 'ש': 204, '″': 205, 'h': 206, 'ا': 207, '≤': 208, '½': 209, 'ה': 210, 'ŝ': 211, 'ӟ': 212, 'נ': 213, 'ל': 214, 'ñ': 215, 'ض': 216, 'م': 217, 'ت': 218, '?': 219, '*': 220, '御': 221, '♯': 222, 'ַ': 223, 'ѳ': 224, '白': 225, '-': 226, '–': 227, '׳': 228, 'ө': 229, '¡': 230}\n"
     ]
    }
   ],
   "source": [
    "# 소스 언어에서 모든 유니크한 문자를 구하자(a.k.a 소스 사전)\n",
    "all_words = list(word_to_translation.keys())\n",
    "source_letters = list(set(''.join(all_words)))\n",
    "source_to_ix = {l:i for i,l in enumerate(source_letters)}\n",
    "print(source_to_ix)"
   ]
  },
  {
   "cell_type": "code",
   "execution_count": 5,
   "metadata": {},
   "outputs": [
    {
     "name": "stdout",
     "output_type": "stream",
     "text": [
      "['ḳ', 'c', 'ʾ', 'ā', 'ο', 'ḍ', 'あ', 'ḏ', 'ê', 'ぼ', '一', 'ʻ', 'x', 'η', 'א', 'ρ', 'ğ', '×', 'ģ', 'զ', '°', 'ď', '4', 'т', 'ז', 'ŏ', 'a', 'ר', 'ט', 'チ', 'ė', 'っ', 'ä', 'ì', 'k', 'ו', '→', '=', 'ã', '子', 'û', '守', '−', 'y', 'ň', 'ź', 'ư', 'œ', 'ḥ', 'ן', 'm', 'վ', 'ĵ', 'ớ', 'þ', 'č', 'н', 'u', 'ồ', 'ĉ', 'ř', 'マ', '·', '≤', '•', 'ぺ', 'ş', 'у', 'ż', '♭', 'ķ', 'ա', 'к', 'ć', 'ص', 'ý', 'و', 'á', 'ơ', ' ', '7', 'τ', 'ɱ', 'f', '3', 'ï', 'я', 'ш', 'ţ', 'ю', '桜', 'ç', 'ד', 'פ', '0', 'ц', '’', 'ø', 'ă', 'å', 'σ', 'כ', '榎', 'س', '仙', 'ÿ', 'ղ', '野', 'o', 'd', '~', 'š', 'í', 'g', 'π', 'る', '猫', 'ק', '…', 'ù', 'ъ', '$', 't', 'ų', 'ū', 'ع', 'δ', 'ν', 'ễ', 'ʿ', 'ĝ', 'ž', 'w', '2', '(', 'コ', 'ر', 'è', 'ẓ', 'ů', '@', 'ב', '—', 'à', '門', 'ế', 'ņ', 'ò', '8', 'ע', 'ạ', 'ら', 'ь', 'р', 'n', 'ð', 'ľ', '′', 'æ', ')', '&', '.', 'ف', 'ף', 'о', 'ζ', 's', 'ļ', 'ı', 'ṯ', 'ס', 'ή', 'ń', 'ם', 'µ', 'ť', 'r', '\"', 'ấ', 'ə', '⋯', 'ג', 'ы', 'י', 'v', 'л', 'ö', 'ח', 'в', 'と', 'и', 'ک', 'а', 'ộ', 'ś', 'ō', 'ŭ', '/', 'ę', 'п', 'צ', '熊', '5', '‘', '!', 'ô', '̇', 'ħ', 'е', 'ó', '`', \"'\", 'ḫ', 'l', 'կ', 'ṇ', 'p', 'ṃ', 'õ', '%', 'ș', 'ē', 'ứ', 'ß', 'ل', 'i', 'υ', 'ú', ',', 'đ', '¡', 'ł', 'e', '+', '∂', '星', 'ր', 'タ', 'q', 'ü', 'ا', 'ỏ', ';', ':', '6', 'ả', '²', '1', 'μ', 'b', 'ő', 'ỹ', 'é', '^', 'z', 'ŋ', 'j', 'ق', 'ọ', 'ф', 'מ', 'ě', 'い', '9', 'ی', 'ת', 'ë', '″', 'ש', 'h', '陳', 'ε', 'â', 'ą', '½', 'ŝ', 'ה', 'ű', 'î', '老', 'ל', 'נ', 'ñ', 'م', 'ī', 'ت', '*', '?', '御', '白', '-', '–', 'ț']\n"
     ]
    }
   ],
   "source": [
    "#타켓 언어에서 모든 유니크한 문자를 구하자\n",
    "all_translations = [ts for all_ts in word_to_translation.values() for ts in all_ts]\n",
    "target_letters = list(set([l for ts in all_translations for l in ts] + [\" \"]))\n",
    "target_to_ix = {l:i for i,l in enumerate(target_letters)}\n",
    "print(target_letters)"
   ]
  },
  {
   "cell_type": "code",
   "execution_count": 6,
   "metadata": {
    "collapsed": true
   },
   "outputs": [],
   "source": [
    "#특별한 토근들\n",
    "EOS_ix_source=source_letters.index(END)\n",
    "EOS_ix_target=target_letters.index(END)\n",
    "BOS_ix_target = target_letters.index(\" \")\n",
    "PAD_ix=EOS_ix_source"
   ]
  },
  {
   "cell_type": "markdown",
   "metadata": {},
   "source": [
    "작업의 범위를 예측하기위해 단어/번역 길이 분포를 그리자\n"
   ]
  },
  {
   "cell_type": "code",
   "execution_count": 7,
   "metadata": {},
   "outputs": [
    {
     "data": {
      "image/png": "[encoded data removed]",
      "text/plain": [
       "<matplotlib.figure.Figure at 0x7fe6f2ef26d8>"
      ]
     },
     "metadata": {},
     "output_type": "display_data"
    }
   ],
   "source": [
    "import matplotlib.pyplot as plt\n",
    "%matplotlib inline\n",
    "plt.figure(figsize=[8,4])\n",
    "plt.subplot(1,2,1)\n",
    "plt.title(\"words\")\n",
    "plt.hist(list(map(len,all_words)),bins=25);\n",
    "\n",
    "plt.subplot(1,2,2)\n",
    "plt.title('translations')\n",
    "plt.hist(list(map(len,all_translations)),bins=25);\n"
   ]
  },
  {
   "cell_type": "markdown",
   "metadata": {},
   "source": [
    "## 두번째 단계: 보조 함수들\n",
    "몇가지 헬퍼 함수가 필요하다:\n",
    "- 문자열로부터 데이타를 정수 행렬들로 바꾸기\n",
    "- 샘플 랜덤 미니배치"
   ]
  },
  {
   "cell_type": "code",
   "execution_count": 8,
   "metadata": {
    "collapsed": true
   },
   "outputs": [],
   "source": [
    "def as_matrix(sequences, token_to_i, max_len=None, PAX_ix=PAD_ix):\n",
    "    \"\"\"\n",
    "    가변 길이 토근 시퀀스를 고정된 크기의 행렬로 바꾸자.\n",
    "    사용 예제:\n",
    "    >>>print( as_matrix(words[:3],source_to_ix))\n",
    "    [[15 22 21 28 27 13 -1 -1 -1 -1 -1]\n",
    "     [30 21 15 15 21 14 28 27 13 -1 -1]\n",
    "     [25 37 31 34 21 20 37 21 28 19 13]]\n",
    "    \"\"\"\n",
    "    \n",
    "    max_len = max_len or max(map(len, sequences))\n",
    "    \n",
    "    matrix = np.zeros((len(sequences), max_len), dtype='int32') + PAD_ix\n",
    "    for i,seq in enumerate(sequences):\n",
    "        row_ix = list(map(token_to_i.get, seq))[:max_len]\n",
    "        matrix[i,:len(row_ix)] = row_ix\n",
    "    \n",
    "    return matrix"
   ]
  },
  {
   "cell_type": "code",
   "execution_count": 9,
   "metadata": {
    "collapsed": true
   },
   "outputs": [],
   "source": [
    "import random\n",
    "def sample_batch(words, word_to_translation, batch_size):\n",
    "    \"\"\"\n",
    "    각 단어에 대해 단어와 랜덤한 올바른 번역의 랜덤 배치를 샘플링하기\n",
    "    예제 사용법:\n",
    "        batch_x, batch_y = sample_batch(train_words, word_to_translations, 10)\n",
    "    \"\"\"\n",
    "    \n",
    "    #단어들 선택하기\n",
    "    batch_words = np.random.choice(words, size=batch_size)\n",
    "    batch_words_len = np.array(list(map(len, batch_words)))\n",
    "    \n",
    "    #번역 선택하기\n",
    "    batch_trans_candidates = list(map(word_to_translation.get, batch_words))\n",
    "    batch_trans = list(map(random.choice, batch_trans_candidates))\n",
    "    batch_trans_len = np.array(list(map(len, batch_trans)))\n",
    "    \n",
    "    return as_matrix(batch_words,source_to_ix), batch_words_len, \\\n",
    "        as_matrix(batch_trans,target_to_ix), batch_trans_len"
   ]
  },
  {
   "cell_type": "markdown",
   "metadata": {},
   "source": [
    "### 데이터 셋 자르기\n",
    "모든 단어의 20퍼센트는 validation를 위해 사용한다."
   ]
  },
  {
   "cell_type": "code",
   "execution_count": 10,
   "metadata": {},
   "outputs": [
    {
     "name": "stderr",
     "output_type": "stream",
     "text": [
      "/hanmail/.pyenv/versions/anaconda3-4.3.1/lib/python3.6/site-packages/sklearn/cross_validation.py:44: DeprecationWarning: This module was deprecated in version 0.18 in favor of the model_selection module into which all the refactored classes and functions are moved. Also note that the interface of the new CV iterators are different from that of this module. This module will be removed in 0.20.\n",
      "  \"This module will be removed in 0.20.\", DeprecationWarning)\n"
     ]
    }
   ],
   "source": [
    "from sklearn.cross_validation import train_test_split\n",
    "train_words,test_words = train_test_split(all_words,test_size=0.1,random_state=42)"
   ]
  },
  {
   "cell_type": "markdown",
   "metadata": {},
   "source": [
    "## 3단계: encoder-decoder를 생성하기\n",
    "아키텍쳐는 두개의 주요 블록으로 구성된다:\n",
    "- Encoder는 단어들을 문자로 읽고 마지막 상태 벡터를 리턴한다.(일반적으로 마지막 RNN 상태 함수)\n",
    "- Decoder는 그 상태 벡터를 가지고 문자단위로 번역을 리턴한다\n",
    "\n",
    "이 섹션에서 encoder를 구현한다."
   ]
  },
  {
   "cell_type": "code",
   "execution_count": 11,
   "metadata": {
    "collapsed": true
   },
   "outputs": [],
   "source": [
    "def get_mask_by_eos(is_eos):\n",
    "    \"\"\"takes indicator of \"it ends now\", returns mask.\n",
    "    Ignores everything after first end.\"\"\"\n",
    "    assert is_eos.ndim==2\n",
    "    is_right_after_eos = np.concatenate([np.zeros_like(is_eos[:,:1]),is_eos[:,:-1]],-1)\n",
    "    is_after_eos = np.eq(np.cumsum(is_right_after_eos,axis=-1),0).astype('uint8')\n",
    "    return is_after_eos"
   ]
  },
  {
   "cell_type": "code",
   "execution_count": 12,
   "metadata": {
    "collapsed": true
   },
   "outputs": [],
   "source": [
    "import tensorflow as tf\n",
    "\n",
    "from collections import namedtuple\n",
    "\n",
    "# params\n",
    "HParams = namedtuple(\n",
    "  \"HParams\",\n",
    "  [\n",
    "    \"cell\",\n",
    "    \"batch_size\",\n",
    "    \"layers\",\n",
    "    \"attention\",\n",
    "    \"enc_embedding_dim\",\n",
    "    \"dec_embedding_dim\",\n",
    "    \"hidden_size\",\n",
    "    \"attn_size\",\n",
    "    \"eval_batch_size\",\n",
    "    \"learning_rate\",\n",
    "    \"max_source_len\",\n",
    "    \"max_target_len\",\n",
    "    \"optimizer\",\n",
    "    \"optimizer_clip_gradients\",\n",
    "    \"ckpt_path\"\n",
    "  ])\n",
    "\n",
    "# create params\n",
    "def create_hparams():\n",
    "    return HParams(\n",
    "        cell=tf.contrib.rnn.GRUCell,\n",
    "        batch_size=32,\n",
    "        layers=1,\n",
    "        attention=False,\n",
    "        eval_batch_size=1,\n",
    "        optimizer=\"Adam\",\n",
    "        optimizer_clip_gradients = 10.0,\n",
    "        learning_rate=0.001,\n",
    "        enc_embedding_dim=50,\n",
    "        dec_embedding_dim=50,\n",
    "        hidden_size=512,\n",
    "        attn_size=512,\n",
    "        max_source_len=40,\n",
    "        max_target_len=MAX_OUTPUT_LENGTH,\n",
    "        ckpt_path='./ckpt_dir/model2.ckpt')\n",
    "hparams = create_hparams()"
   ]
  },
  {
   "cell_type": "code",
   "execution_count": 13,
   "metadata": {},
   "outputs": [
    {
     "name": "stdout",
     "output_type": "stream",
     "text": [
      "['/gpu:0', '/gpu:1', '/gpu:2', '/gpu:3', '/gpu:4', '/gpu:5', '/gpu:6', '/gpu:7']\n"
     ]
    }
   ],
   "source": [
    "#check gpu\n",
    "from tensorflow.python.client import device_lib\n",
    "\n",
    "def get_available_gpus():\n",
    "    local_device_protos = device_lib.list_local_devices()\n",
    "    return [x.name for x in local_device_protos if x.device_type == 'GPU']\n",
    "print(get_available_gpus())\n",
    "\n"
   ]
  },
  {
   "cell_type": "markdown",
   "metadata": {},
   "source": [
    "## Model\n",
    "Here we define functions for model inference (both greedy and sampled)."
   ]
  },
  {
   "cell_type": "code",
   "execution_count": 14,
   "metadata": {
    "collapsed": true
   },
   "outputs": [],
   "source": [
    "from tensorflow.python.client import device_lib\n",
    "\n",
    "def rl_loss(logits, targets, advantage, weights, name=None):\n",
    "\n",
    "        if len(logits.get_shape()) != 3:\n",
    "            raise ValueError(\"Logits must be a \"\n",
    "                             \"[batch_size x sequence_length x logits] tensor\")\n",
    "        \n",
    "        if len(targets.get_shape()) != 2:\n",
    "            raise ValueError(\"Targets must be a [batch_size x sequence_length] \"\n",
    "                         \"tensor\")\n",
    "        \n",
    "        if len(weights.get_shape()) != 2:\n",
    "            raise ValueError(\"Weights must be a [batch_size x sequence_length] \"\n",
    "                             \"tensor\")\n",
    "        with tf.name_scope(name, \"sequence_loss\", [logits, targets, weights]):\n",
    "            num_classes = tf.shape(logits)[2]\n",
    "            probs_flat = tf.nn.softmax(tf.reshape(logits, [-1, num_classes]))\n",
    "            targets = tf.reshape(targets, [-1])\n",
    "            \n",
    "            probs = tf.reduce_sum(probs_flat * tf.one_hot(targets, depth=num_classes), 1)\n",
    "            logprobs = tf.log(probs)\n",
    "            \n",
    "            crossent = -logprobs * tf.reshape(weights, [-1])\n",
    "            \n",
    "            batch_size = tf.shape(logits)[0]\n",
    "            sequence_length = tf.shape(logits)[1]\n",
    "            crossent = tf.reshape(crossent, [batch_size, sequence_length])\n",
    "\n",
    "            J = crossent * advantage[:, None] \n",
    "\n",
    "            loss = tf.reduce_sum(J)\n",
    "            total_size = tf.reduce_sum(weights)\n",
    "            loss /= total_size\n",
    "\n",
    "            #regularize with negative entropy\n",
    "            entropy = -probs * logprobs \n",
    "            entropy = tf.reduce_sum(entropy)\n",
    "            total_size = tf.reduce_sum(weights)\n",
    "            entropy /= total_size\n",
    "\n",
    "            loss -=  0.01*entropy\n",
    "        \n",
    "            return loss\n",
    "\n",
    "\n"
   ]
  },
  {
   "cell_type": "code",
   "execution_count": 95,
   "metadata": {
    "collapsed": true
   },
   "outputs": [],
   "source": [
    "from tensorflow.python.layers.core import Dense\n",
    "from sample_embedding_helper import SampleEmbeddingHelper\n",
    "from tensorflow.python.ops.rnn_cell_impl import _zero_state_tensors\n",
    "\n",
    "import os\n",
    "\n",
    "class Seq2SeqModel:\n",
    "    def __init__(self, config, mode='training'):\n",
    "        self.config = config\n",
    "        self.mode = mode\n",
    "        self.max_target_len = self.config.max_target_len\n",
    "        self.available_gpus = get_available_gpus()\n",
    "        self.current_gpu_index = 0\n",
    "        self.total_gpu_cnt = len(self.available_gpus)\n",
    "        \n",
    "    def _get_next_gpu(self):\n",
    "        if self.total_gpu_cnt == 0:\n",
    "            return 'cpu:0'\n",
    "        else:\n",
    "            self.current_gpu_index += 1\n",
    "            self.current_gpu_index %= (self.total_gpu_cnt + 1)\n",
    "            return self.available_gpus[self.current_gpu_index-1]\n",
    "        \n",
    "    # add placeholders\n",
    "    def _add_placeholders(self):\n",
    "        self.input_ids = tf.placeholder(\n",
    "            tf.int32,\n",
    "            shape=[None, None],\n",
    "            name='input_ids')\n",
    "\n",
    "        self.inputs_len = tf.placeholder(\n",
    "            tf.int32,\n",
    "            shape=[None],\n",
    "            name='inputs_len')\n",
    "        \n",
    "        if self.mode == 'training':\n",
    "            self.target_ids = tf.placeholder(\n",
    "                tf.int32,\n",
    "                shape=[None, None],\n",
    "                name='target_ids')\n",
    "\n",
    "            self.targets_len = tf.placeholder(\n",
    "                tf.int32,\n",
    "                shape=[None],\n",
    "                name='targets_len')\n",
    "                      \n",
    "            self.rl_enable = tf.placeholder(\n",
    "                tf.bool,\n",
    "                shape=None,\n",
    "                name='rl_enable'\n",
    "            )\n",
    "            \n",
    "            self.targets_length = tf.minimum(self.targets_len, self.config.max_target_len)\n",
    "            #self.max_target_len = tf.reduce_max(self.targets_length, name='max_target_len')\n",
    "            self.targets = self.target_ids[:, :self.max_target_len]\n",
    "        #else:\n",
    "                    \n",
    "    # build a computation graph\n",
    "    def build_graph(self, saver=None):\n",
    "        # add placeholder variables\n",
    "        self._add_placeholders()\n",
    "\n",
    "        # build encoder\n",
    "        self._add_encoder()\n",
    "        \n",
    "        # build decoder\n",
    "        self._add_decoder()\n",
    "            \n",
    "        #optimizer\n",
    "        if self.mode == 'training':\n",
    "            self._add_optimizer()\n",
    "        \n",
    "        if saver:\n",
    "            self.saver = saver\n",
    "        else:\n",
    "            self.saver = tf.train.Saver()\n",
    "\n",
    "    # encoder layer\n",
    "    def _add_encoder(self):\n",
    "        with tf.variable_scope('Encoder') as scope:\n",
    "            self.batch_size = tf.shape(self.input_ids)[0]\n",
    "\n",
    "            enc_W_emb = tf.get_variable('en_embedding', \n",
    "                                        initializer=tf.random_uniform([len(source_letters), self.config.enc_embedding_dim]),\n",
    "                                        dtype=tf.float32)\n",
    "            \n",
    "            enc_emb_inputs = tf.nn.embedding_lookup(\n",
    "                enc_W_emb, self.input_ids, name='emb_inputs')\n",
    "\n",
    "            # bidirectional rnn\n",
    "            if self.config.layers == 1:\n",
    "                enc_cell = tf.contrib.rnn.DeviceWrapper(\n",
    "                    self.config.cell(self.config.hidden_size), \n",
    "                    device=self._get_next_gpu())\n",
    "                \n",
    "                self.enc_outputs, self.enc_last_state = tf.nn.dynamic_rnn(\n",
    "                    cell=enc_cell,\n",
    "                    inputs=enc_emb_inputs,\n",
    "                    sequence_length=self.inputs_len,\n",
    "                    time_major=False,\n",
    "                    dtype=tf.float32)                \n",
    "            else:\n",
    "                enc_cell_fw = self.config.cell(self.config.hidden_size)\n",
    "                enc_cell_fw = tf.contrib.rnn.DeviceWrapper(enc_cell_fw, device=self._get_next_gpu())\n",
    "\n",
    "                gpu2 = self._get_next_gpu()\n",
    "\n",
    "                enc_cell_bw = self.config.cell(self.config.hidden_size)\n",
    "                enc_cell_bw = tf.contrib.rnn.DeviceWrapper(enc_cell_bw, device=gpu2)\n",
    "\n",
    "                enc_outputs, enc_state = tf.nn.bidirectional_dynamic_rnn(enc_cell_fw, \n",
    "                                                                           enc_cell_bw, \n",
    "                                                                           enc_emb_inputs,\n",
    "                                                                           self.inputs_len,\n",
    "                                                                           dtype=tf.float32)\n",
    "                enc_outputs = tf.concat(enc_outputs,2)\n",
    "\n",
    "                enc_cell = tf.contrib.rnn.DeviceWrapper(\n",
    "                        self.config.cell(num_units=self.config.hidden_size),\n",
    "                        device=gpu2)\n",
    "\n",
    "                # multi rnn\n",
    "                if self.config.layers > 2:\n",
    "                    enc_cell = [enc_cell]\n",
    "                    for _ in range(self.config.layers-2):\n",
    "                        enc_cell.append(tf.contrib.rnn.DeviceWrapper(\n",
    "                            tf.contrib.rnn.ResidualWrapper(\n",
    "                                self.config.cell(num_units=self.config.hidden_size)),\n",
    "                            device=self._get_next_gpu()))\n",
    "\n",
    "                    enc_cell = tf.contrib.rnn.MultiRNNCell(enc_cell)\n",
    "                    \n",
    "                \n",
    "                self.enc_outputs, self.enc_last_state = tf.nn.dynamic_rnn(\n",
    "                    cell=enc_cell,\n",
    "                    inputs=enc_outputs,\n",
    "                    sequence_length=self.inputs_len,\n",
    "                    time_major=False,\n",
    "                    dtype=tf.float32)\n",
    "                \n",
    "                self.enc_last_state = (enc_state[0],) + self.enc_last_state\n",
    "                \n",
    "    # decoder layer\n",
    "    def _add_decoder(self):\n",
    "        with tf.variable_scope('Decoder') as scope:\n",
    "            cells = []\n",
    "            if self.config.layers > 1:\n",
    "                for i in range(self.config.layers):\n",
    "                    if i == 0:\n",
    "                        cells.append(tf.contrib.rnn.DeviceWrapper(\n",
    "                            self.config.cell(self.config.hidden_size), \n",
    "                            device=self._get_next_gpu()))\n",
    "                    else:\n",
    "                        cells.append(tf.contrib.rnn.DeviceWrapper(\n",
    "                            tf.contrib.rnn.ResidualWrapper(\n",
    "                                self.config.cell(num_units=self.config.hidden_size)),\n",
    "                            device=self._get_next_gpu()))\n",
    "\n",
    "                self.dec_cell = tf.contrib.rnn.MultiRNNCell(cells)\n",
    "            else:\n",
    "                self.dec_cell = tf.contrib.rnn.DeviceWrapper(\n",
    "                                    self.config.cell(self.config.hidden_size), \n",
    "                                    device=self._get_next_gpu())\n",
    "            \n",
    "            if self.config.attention:\n",
    "                attn_mech = tf.contrib.seq2seq.LuongAttention(\n",
    "                        num_units=self.config.attn_size,\n",
    "                        memory=self.enc_outputs,\n",
    "                        memory_sequence_length=self.inputs_len,\n",
    "                        normalize=False,\n",
    "                        name='LuongAttention')\n",
    "\n",
    "                self.dec_cell = tf.contrib.seq2seq.DynamicAttentionWrapper(\n",
    "                        cell=self.dec_cell,\n",
    "                        attention_mechanism=attn_mech,\n",
    "                        attention_size=self.config.attn_size,\n",
    "                        # attention_history=False (in ver 1.2)\n",
    "                        name='Attention_Wrapper')\n",
    "\n",
    "                # last_enc_state wrapper\n",
    "                self.initial_state = tf.contrib.seq2seq.DynamicAttentionWrapperState(\n",
    "                        cell_state=self.enc_last_state,\n",
    "                        attention=_zero_state_tensors(self.config.attn_size, self.batch_size, tf.float32))\n",
    "            else:\n",
    "                self.initial_state = self.enc_last_state\n",
    "\n",
    "            self.dec_W_emb = tf.get_variable('de_embedding', \n",
    "                                             initializer=tf.random_uniform([len(target_letters),\n",
    "                                                                            self.config.dec_embedding_dim]),\n",
    "                                             dtype=tf.float32)\n",
    "                \n",
    "            self.output_layer = Dense(len(target_letters), name='output_projection')\n",
    "            if self.mode == 'training': # training layer\n",
    "                self.sampling_predictions, self.greedy_predictions, self.rl_loss = self._add_rl_training_layer(scope)\n",
    "                self.predictions, self.loss = self._add_training_layer(scope)\n",
    "                \n",
    "            else: # inference layer\n",
    "                self.predictions = self._add_inference_layer()     \n",
    "\n",
    "    # inference layer\n",
    "    def _add_inference_layer(self):\n",
    "        # inference layer\n",
    "        sequence_start = [BOS_ix_target]\n",
    "        start_tokens = tf.tile(sequence_start, [self.batch_size], name='start_tokens')\n",
    "\n",
    "        inference_helper = tf.contrib.seq2seq.GreedyEmbeddingHelper(\n",
    "            embedding=self.dec_W_emb,\n",
    "            start_tokens=start_tokens,\n",
    "            end_token=EOS_ix_target) \n",
    "\n",
    "        inference_decoder = tf.contrib.seq2seq.BasicDecoder(\n",
    "            cell=self.dec_cell,\n",
    "            helper=inference_helper,\n",
    "            initial_state=self.initial_state,\n",
    "            output_layer=self.output_layer)\n",
    "\n",
    "        inference_outputs, _ = tf.contrib.seq2seq.dynamic_decode(\n",
    "            inference_decoder,\n",
    "            output_time_major=False,\n",
    "            impute_finished=True,\n",
    "            maximum_iterations=self.max_target_len)\n",
    "            \n",
    "        predictions = inference_outputs.sample_id\n",
    "        return predictions\n",
    "    \n",
    "    # training layer\n",
    "    def _add_training_layer(self, scope):\n",
    "        # training_layer\n",
    "        self.max_target_len = tf.reduce_max(self.targets_length, name='max_target_len')\n",
    "        \n",
    "        dec_inputs = tf.concat([tf.zeros_like(self.targets[:,:1])+BOS_ix_target,\n",
    "                                          self.targets[:,:-1]],axis=1)\n",
    "        \n",
    "        dec_emb_inputs = tf.nn.embedding_lookup(\n",
    "            self.dec_W_emb, dec_inputs, name='emb_inputs')\n",
    "\n",
    "        training_helper = tf.contrib.seq2seq.TrainingHelper(\n",
    "            inputs=dec_emb_inputs,\n",
    "            sequence_length=self.targets_length,\n",
    "            time_major=False,\n",
    "            name='training_helper')\n",
    "\n",
    "        training_decoder = tf.contrib.seq2seq.BasicDecoder(\n",
    "            cell=self.dec_cell,\n",
    "            helper=training_helper,\n",
    "            initial_state=self.initial_state,\n",
    "            output_layer=self.output_layer)\n",
    "\n",
    "        max_target_len = tf.reduce_max(self.targets_length, name='max_target_len')\n",
    "        \n",
    "        train_outputs, _ = tf.contrib.seq2seq.dynamic_decode(\n",
    "            training_decoder,\n",
    "            output_time_major=False,\n",
    "            impute_finished=True,\n",
    "            maximum_iterations=max_target_len)\n",
    "            \n",
    "        # predictions\n",
    "        predictions = train_outputs.sample_id\n",
    "\n",
    "        masks = tf.sequence_mask(self.targets_length, self.max_target_len, dtype=tf.float32, name='masks')\n",
    "\n",
    "        # loss\n",
    "        loss = tf.contrib.seq2seq.sequence_loss(logits=train_outputs.rnn_output, \n",
    "                                                     targets=self.targets,\n",
    "                                                     weights=masks, name='batch_loss')        \n",
    "        return predictions, loss\n",
    "        \n",
    "    def _add_rl_training_layer(self, scope):\n",
    "        # RL training_layer\n",
    "        sequence_start = [BOS_ix_target]\n",
    "        start_tokens = tf.tile(sequence_start, [self.batch_size], name='start_tokens')\n",
    "\n",
    "        #greedy decoding\n",
    "        greedy_helper = tf.contrib.seq2seq.GreedyEmbeddingHelper(\n",
    "            embedding=self.dec_W_emb,\n",
    "            start_tokens=start_tokens,\n",
    "            end_token=EOS_ix_target) \n",
    "\n",
    "        greedy_decoder = tf.contrib.seq2seq.BasicDecoder(\n",
    "            cell=self.dec_cell,\n",
    "            helper=greedy_helper,\n",
    "            initial_state=self.initial_state,\n",
    "            output_layer=self.output_layer)\n",
    "\n",
    "        greedy_dec_outputs, _ = tf.contrib.seq2seq.dynamic_decode(\n",
    "            greedy_decoder,\n",
    "            output_time_major=False,\n",
    "            impute_finished=True,\n",
    "            maximum_iterations=self.max_target_len)\n",
    "\n",
    "        # greedy predictions\n",
    "        greedy_predictions = greedy_dec_outputs.sample_id\n",
    "        \n",
    "        scope.reuse_variables()\n",
    "\n",
    "        #sampling decoding\n",
    "        training_sampling_helper = SampleEmbeddingHelper(\n",
    "            embedding=self.dec_W_emb,\n",
    "            start_tokens=start_tokens,\n",
    "            end_token=EOS_ix_target)\n",
    "\n",
    "        training_sampling_decoder = tf.contrib.seq2seq.BasicDecoder(\n",
    "            cell=self.dec_cell,\n",
    "            helper=training_sampling_helper,\n",
    "            initial_state=self.initial_state,\n",
    "            output_layer=self.output_layer)\n",
    "\n",
    "        train_outputs, _ = tf.contrib.seq2seq.dynamic_decode(\n",
    "            training_sampling_decoder,\n",
    "            output_time_major=False,\n",
    "            impute_finished=True,\n",
    "            maximum_iterations=self.max_target_len)\n",
    "\n",
    "        #seq_len = tf.shape(train_outputs.rnn_output)[1]\n",
    "\n",
    "        # predictions\n",
    "        predictions = train_outputs.sample_id\n",
    "        \n",
    "        # mask\n",
    "        masks = tf.sign(tf.to_float(predictions))\n",
    "\n",
    "        # advantage\n",
    "        self.advantage = tf.py_func(self._calculate_advantage,\n",
    "                               [self.input_ids,\n",
    "                                predictions,\n",
    "                                greedy_predictions], Tout=tf.float32)\n",
    "        self.advantage = tf.reshape(self.advantage, [self.batch_size])\n",
    "        # loss\n",
    "        loss = rl_loss(logits=train_outputs.rnn_output, \n",
    "                       targets=predictions,\n",
    "                       advantage=self.advantage, \n",
    "                       weights=masks, \n",
    "                       name='rl_loss')\n",
    "        \n",
    "        return predictions, greedy_predictions, loss\n",
    "\n",
    "    # optimizing layer\n",
    "    def _add_optimizer(self):\n",
    "        with tf.variable_scope('Optimizer') as scope:\n",
    "            def _clip_gradients(grads_and_vars):\n",
    "                \"\"\"Clips gradients by global norm.\"\"\"\n",
    "                gradients, variables = zip(*grads_and_vars)\n",
    "                clipped_gradients, _ = tf.clip_by_global_norm(\n",
    "                    gradients, self.config.optimizer_clip_gradients)\n",
    "                return list(zip(clipped_gradients, variables))\n",
    "            loss = tf.cond(self.rl_enable, lambda : self.rl_loss, lambda : self.loss)\n",
    "            \n",
    "            self.train_op = tf.contrib.layers.optimize_loss(loss=loss, \n",
    "                                                            global_step=tf.contrib.framework.get_global_step(),\n",
    "                                                            learning_rate=self.config.learning_rate, \n",
    "                                                            clip_gradients=_clip_gradients,\n",
    "                                                            optimizer=self.config.optimizer)\n",
    "\n",
    "    # translate a word\n",
    "    def translate(self, sess, word, sample=False):\n",
    "        #if os.path.isfile(self.config.ckpt_path):\n",
    "        #    self.restore(sess)\n",
    "            \n",
    "        assert word.endswith(END)\n",
    "        word_len = np.array([len(word)])\n",
    "        word_ix = as_matrix([word.lower()],source_to_ix)\n",
    "        feed_dict = {self.input_ids: word_ix, self.inputs_len: word_len}\n",
    "        if sample:\n",
    "            outputs = sess.run(self.predictions, feed_dict=feed_dict)\n",
    "        else:\n",
    "            outputs = sess.run(self.predictions, feed_dict=feed_dict)\n",
    "        trans = list(map(target_letters.__getitem__, outputs[0]))\n",
    "        if END in trans:\n",
    "            trans = trans[:trans.index(END)+1]\n",
    "            \n",
    "        return ''.join(trans)\n",
    "    \n",
    "    # infer method(for a batch)\n",
    "    def infer(self, sess, inputs, inputs_len):\n",
    "        #if os.path.isfile(self.config.ckpt_path):\n",
    "        #    self.restore(sess)\n",
    "        \n",
    "        feed_dict = {self.input_ids: inputs, self.inputs_len: inputs_len}\n",
    "        \n",
    "        outputs = sess.run(self.predictions, feed_dict=feed_dict)\n",
    "    \n",
    "        return outputs\n",
    "    \n",
    "    # train a step\n",
    "    def train_step(self, sess, inputs, inputs_len, targets, targets_len):\n",
    "        feed_dict = {self.input_ids: inputs, self.inputs_len: inputs_len,\n",
    "                    self.target_ids: targets, self.targets_len: targets_len,\n",
    "                    self.rl_enable: False}\n",
    "        _, loss = sess.run([self.train_op, self.loss], feed_dict=feed_dict)\n",
    "        #loss = sess.run(self.advantage, feed_dict=feed_dict)\n",
    "        return loss\n",
    "    \n",
    "    def summary(self):\n",
    "        summary_writer = tf.summary.FileWriter(\n",
    "            logdir=self.config.ckpt_path, graph=tf.get_default_graph())\n",
    "               \n",
    "    def restore(self, sess, ckpt_path=None):\n",
    "        if ckpt_path:\n",
    "            self.saver.restore(sess, ckpt_path)\n",
    "        else:\n",
    "            self.saver.restore(sess, self.config.ckpt_path)\n",
    "        print('Restore Finished!')\n",
    "        \n",
    "    def save(self, sess, save_path=None):\n",
    "        if save_path:\n",
    "            self.saver.save(sess, save_path)\n",
    "            print(f'Saving model at {save_path}')\n",
    "        else:\n",
    "            self.saver.save(sess, self.config.ckpt_path)\n",
    "            print(f'Saving model at {save_path}')\n",
    "\n",
    "            \n",
    "    def rl_train_step(self, sess, inputs, inputs_len, targets, targets_len):\n",
    "        \n",
    "        feed_dict = {self.input_ids: inputs, self.inputs_len: inputs_len,\n",
    "                    self.target_ids: targets, self.targets_len: targets_len,\n",
    "                    self.rl_enable: True}\n",
    "        \n",
    "        #sampling_preds, greedy_preds = sess.run([self.predictions, self.greedy_predictions], \n",
    "        #                                        feed_dict=feed_dict)\n",
    "        \n",
    "        #print(sampling_preds)\n",
    "        #print(greedy_preds)\n",
    "        #sampling_masks = get_mask_by_eos(np.equal(sampling_preds,EOS_ix_target))\n",
    "        #greedy_masks = get_mask_by_eos(np.equal(greedy_preds,EOS_ix_target))\n",
    "        #input_masks = get_mask_by_eos(np.equal(inputs, EOS_ix_source))\n",
    "        \n",
    "        #rewards = -compute_levenshtein(inputs, input_masks, sampling_preds, sampling_masks)\n",
    "        #baseline = -compute_levenshtein(inputs, input_masks, greedy_preds, greedy_masks)\n",
    "\n",
    "        #advantage = rewards - baseline\n",
    "        #print(advantage)\n",
    "        \n",
    "        #feed_dict.update({self.advantage:advantage})\n",
    "\n",
    "        preds, _, loss = sess.run([self.predictions, self.train_op, self.loss], feed_dict=feed_dict)\n",
    "        \n",
    "        return loss\n",
    "        \n",
    "    def _calculate_advantage(self, inputs, sampling_preds, greedy_preds):\n",
    "        \n",
    "        sampling_masks = get_mask_by_eos(np.equal(sampling_preds,EOS_ix_target))\n",
    "        greedy_masks = get_mask_by_eos(np.equal(greedy_preds,EOS_ix_target))\n",
    "        input_masks = get_mask_by_eos(np.equal(inputs, EOS_ix_source))\n",
    "        \n",
    "        rewards = -compute_levenshtein(inputs, input_masks, sampling_preds, sampling_masks)\n",
    "        baseline = -compute_levenshtein(inputs, input_masks, greedy_preds, greedy_masks)\n",
    "\n",
    "        advantage = rewards - baseline\n",
    "        return advantage\n"
   ]
  },
  {
   "cell_type": "code",
   "execution_count": 96,
   "metadata": {},
   "outputs": [
    {
     "name": "stdout",
     "output_type": "stream",
     "text": [
      "x:אנרכיזם;\n",
      "y_sampled:ıلللqqqqṇṇṇááףqqqqqq\n",
      "y_greedy:ıلللqqqqṇṇṇááףqqqqqq\n"
     ]
    }
   ],
   "source": [
    "\n",
    "#test untrained model\n",
    "#should be random\n",
    "tf.reset_default_graph()\n",
    "print ('x:'+all_words[0])\n",
    "seq2seq = Seq2SeqModel(hparams, mode='inference')\n",
    "seq2seq.build_graph()\n",
    "with tf.Session() as sess:\n",
    "    #seq2seq.restore(sess)\n",
    "    sess.run(tf.global_variables_initializer())\n",
    "    print ('y_sampled:'+seq2seq.translate(sess, all_words[0],sample=True))\n",
    "    print ('y_greedy:'+seq2seq.translate(sess, all_words[0]))\n",
    "#praise Cthulhu!\n"
   ]
  },
  {
   "cell_type": "markdown",
   "metadata": {},
   "source": [
    "### Score 함수\n",
    "LogLikelihood는 모델 성능 평가에 좋지 않다.\n",
    "- 제로 확률이 한번 예측 되면, 전체 모델을 망치지 말아야 한다.\n",
    "- 여러개의 바른 답이 있다면 단지 하나의 번역을 배우는 것만으로 충분하다.\n",
    "- 한 단계마다 가장 있을법한 음소를 가지는지 출력해???\n",
    "\n",
    "그러므로, 우리는 최소 Levenshten distance를 사용할 것이다."
   ]
  },
  {
   "cell_type": "code",
   "execution_count": 87,
   "metadata": {
    "collapsed": true
   },
   "outputs": [],
   "source": [
    "import editdistance\n",
    "\n",
    "def get_distance(word, trans):\n",
    "    \"\"\"\n",
    "    워드와 예측된 번역을 입력으로 하고 바른 번역에 얼마나 가까운지 edit distance를 평가한다.\n",
    "    \"\"\"\n",
    "    #print(word)\n",
    "    references = word_to_translation[word]\n",
    "    #print(references)\n",
    "    #print(trans)\n",
    "    assert len(references) !=0, \"word/unknown word\"\n",
    "    return min(editdistance.eval(trans, ref) for ref in references)"
   ]
  },
  {
   "cell_type": "code",
   "execution_count": 82,
   "metadata": {
    "collapsed": true
   },
   "outputs": [],
   "source": [
    "def score(sess, model, bsize=100):\n",
    "    \"\"\"\n",
    "    bszie의 랜덤 샘플에 대해 levenshtein distance를 계산하는 함수\n",
    "    \"\"\"\n",
    "    batch_words = np.random.choice(test_words, size=(bsize,)) \n",
    "    #for word in batch_words:\n",
    "    #    print(word)\n",
    "    predictions = [model.translate(sess, word) for word in batch_words]\n",
    "    #for p in predictions:\n",
    "    #    print(p)\n",
    "    #print(predictions)\n",
    "    distances = [get_distance(word, prediction) for (word, prediction) in zip(batch_words, predictions)]    \n",
    "    return np.array(distances,dtype='float32')   "
   ]
  },
  {
   "cell_type": "code",
   "execution_count": 83,
   "metadata": {},
   "outputs": [
    {
     "name": "stdout",
     "output_type": "stream",
     "text": [
      "[19.959999, 19.959999, 19.959999, 19.92, 19.9, 19.940001, 19.93, 19.92, 19.92, 19.959999]\n"
     ]
    }
   ],
   "source": [
    "with tf.Session() as sess:\n",
    "    sess.run(tf.global_variables_initializer())\n",
    "    #should be around 5-50 and decrease rapidly :)\n",
    "    result = [score(sess, seq2seq, 100).mean() for _ in range(10)]\n",
    "print(result)"
   ]
  },
  {
   "cell_type": "markdown",
   "metadata": {},
   "source": [
    "## Step 4: Supervised pre-training\n",
    "여기에서 로그 우도를 최대화 함으로써 모델을 학습하는 함수를 정의하자."
   ]
  },
  {
   "cell_type": "code",
   "execution_count": 97,
   "metadata": {
    "scrolled": true
   },
   "outputs": [
    {
     "data": {
      "image/png": "[encoded data removed]",
      "text/plain": [
       "<matplotlib.figure.Figure at 0x7fe338945f60>"
      ]
     },
     "metadata": {},
     "output_type": "display_data"
    },
    {
     "name": "stdout",
     "output_type": "stream",
     "text": [
      "llh=1.419, mean score=6.768\n",
      "INFO:tensorflow:Restoring parameters from ./ckpt_dir/model2.ckpt\n"
     ]
    },
    {
     "name": "stderr",
     "output_type": "stream",
     "text": [
      "\r",
      " 12%|█▏        | 2900/25000 [08:40<8:53:45,  1.45s/it]"
     ]
    },
    {
     "name": "stdout",
     "output_type": "stream",
     "text": [
      "Restore Finished!\n"
     ]
    },
    {
     "name": "stderr",
     "output_type": "stream",
     "text": [
      " 12%|█▏        | 2934/25000 [08:45<47:24,  7.76it/s]  "
     ]
    },
    {
     "ename": "KeyboardInterrupt",
     "evalue": "",
     "output_type": "error",
     "traceback": [
      "\u001b[0;31m---------------------------------------------------------------------------\u001b[0m",
      "\u001b[0;31mKeyboardInterrupt\u001b[0m                         Traceback (most recent call last)",
      "\u001b[0;32m<ipython-input-97-e9d9f7c6dc08>\u001b[0m in \u001b[0;36m<module>\u001b[0;34m()\u001b[0m\n\u001b[1;32m     13\u001b[0m \u001b[0;32mfor\u001b[0m \u001b[0mi\u001b[0m \u001b[0;32min\u001b[0m \u001b[0mtrange\u001b[0m\u001b[0;34m(\u001b[0m\u001b[0;36m25000\u001b[0m\u001b[0;34m)\u001b[0m\u001b[0;34m:\u001b[0m\u001b[0;34m\u001b[0m\u001b[0m\n\u001b[1;32m     14\u001b[0m     loss_history.append(\n\u001b[0;32m---> 15\u001b[0;31m              seq2seq.train_step(sess, *sample_batch(train_words,word_to_translation,32)))\n\u001b[0m\u001b[1;32m     16\u001b[0m \u001b[0;34m\u001b[0m\u001b[0m\n\u001b[1;32m     17\u001b[0m     \u001b[0;32mif\u001b[0m \u001b[0;34m(\u001b[0m\u001b[0mi\u001b[0m\u001b[0;34m+\u001b[0m\u001b[0;36m1\u001b[0m\u001b[0;34m)\u001b[0m\u001b[0;34m%\u001b[0m\u001b[0mREPORT_FREQ\u001b[0m\u001b[0;34m==\u001b[0m\u001b[0;36m0\u001b[0m\u001b[0;34m:\u001b[0m\u001b[0;34m\u001b[0m\u001b[0m\n",
      "\u001b[0;32m<ipython-input-95-f36b65869406>\u001b[0m in \u001b[0;36mtrain_step\u001b[0;34m(self, sess, inputs, inputs_len, targets, targets_len)\u001b[0m\n\u001b[1;32m    387\u001b[0m                     \u001b[0mself\u001b[0m\u001b[0;34m.\u001b[0m\u001b[0mtarget_ids\u001b[0m\u001b[0;34m:\u001b[0m \u001b[0mtargets\u001b[0m\u001b[0;34m,\u001b[0m \u001b[0mself\u001b[0m\u001b[0;34m.\u001b[0m\u001b[0mtargets_len\u001b[0m\u001b[0;34m:\u001b[0m \u001b[0mtargets_len\u001b[0m\u001b[0;34m,\u001b[0m\u001b[0;34m\u001b[0m\u001b[0m\n\u001b[1;32m    388\u001b[0m                     self.rl_enable: False}\n\u001b[0;32m--> 389\u001b[0;31m         \u001b[0m_\u001b[0m\u001b[0;34m,\u001b[0m \u001b[0mloss\u001b[0m \u001b[0;34m=\u001b[0m \u001b[0msess\u001b[0m\u001b[0;34m.\u001b[0m\u001b[0mrun\u001b[0m\u001b[0;34m(\u001b[0m\u001b[0;34m[\u001b[0m\u001b[0mself\u001b[0m\u001b[0;34m.\u001b[0m\u001b[0mtrain_op\u001b[0m\u001b[0;34m,\u001b[0m \u001b[0mself\u001b[0m\u001b[0;34m.\u001b[0m\u001b[0mloss\u001b[0m\u001b[0;34m]\u001b[0m\u001b[0;34m,\u001b[0m \u001b[0mfeed_dict\u001b[0m\u001b[0;34m=\u001b[0m\u001b[0mfeed_dict\u001b[0m\u001b[0;34m)\u001b[0m\u001b[0;34m\u001b[0m\u001b[0m\n\u001b[0m\u001b[1;32m    390\u001b[0m         \u001b[0;31m#loss = sess.run(self.advantage, feed_dict=feed_dict)\u001b[0m\u001b[0;34m\u001b[0m\u001b[0;34m\u001b[0m\u001b[0m\n\u001b[1;32m    391\u001b[0m         \u001b[0;32mreturn\u001b[0m \u001b[0mloss\u001b[0m\u001b[0;34m\u001b[0m\u001b[0m\n",
      "\u001b[0;32m/hanmail/.pyenv/versions/anaconda3-4.3.1/lib/python3.6/site-packages/tensorflow/python/client/session.py\u001b[0m in \u001b[0;36mrun\u001b[0;34m(self, fetches, feed_dict, options, run_metadata)\u001b[0m\n\u001b[1;32m    776\u001b[0m     \u001b[0;32mtry\u001b[0m\u001b[0;34m:\u001b[0m\u001b[0;34m\u001b[0m\u001b[0m\n\u001b[1;32m    777\u001b[0m       result = self._run(None, fetches, feed_dict, options_ptr,\n\u001b[0;32m--> 778\u001b[0;31m                          run_metadata_ptr)\n\u001b[0m\u001b[1;32m    779\u001b[0m       \u001b[0;32mif\u001b[0m \u001b[0mrun_metadata\u001b[0m\u001b[0;34m:\u001b[0m\u001b[0;34m\u001b[0m\u001b[0m\n\u001b[1;32m    780\u001b[0m         \u001b[0mproto_data\u001b[0m \u001b[0;34m=\u001b[0m \u001b[0mtf_session\u001b[0m\u001b[0;34m.\u001b[0m\u001b[0mTF_GetBuffer\u001b[0m\u001b[0;34m(\u001b[0m\u001b[0mrun_metadata_ptr\u001b[0m\u001b[0;34m)\u001b[0m\u001b[0;34m\u001b[0m\u001b[0m\n",
      "\u001b[0;32m/hanmail/.pyenv/versions/anaconda3-4.3.1/lib/python3.6/site-packages/tensorflow/python/client/session.py\u001b[0m in \u001b[0;36m_run\u001b[0;34m(self, handle, fetches, feed_dict, options, run_metadata)\u001b[0m\n\u001b[1;32m    980\u001b[0m     \u001b[0;32mif\u001b[0m \u001b[0mfinal_fetches\u001b[0m \u001b[0;32mor\u001b[0m \u001b[0mfinal_targets\u001b[0m\u001b[0;34m:\u001b[0m\u001b[0;34m\u001b[0m\u001b[0m\n\u001b[1;32m    981\u001b[0m       results = self._do_run(handle, final_targets, final_fetches,\n\u001b[0;32m--> 982\u001b[0;31m                              feed_dict_string, options, run_metadata)\n\u001b[0m\u001b[1;32m    983\u001b[0m     \u001b[0;32melse\u001b[0m\u001b[0;34m:\u001b[0m\u001b[0;34m\u001b[0m\u001b[0m\n\u001b[1;32m    984\u001b[0m       \u001b[0mresults\u001b[0m \u001b[0;34m=\u001b[0m \u001b[0;34m[\u001b[0m\u001b[0;34m]\u001b[0m\u001b[0;34m\u001b[0m\u001b[0m\n",
      "\u001b[0;32m/hanmail/.pyenv/versions/anaconda3-4.3.1/lib/python3.6/site-packages/tensorflow/python/client/session.py\u001b[0m in \u001b[0;36m_do_run\u001b[0;34m(self, handle, target_list, fetch_list, feed_dict, options, run_metadata)\u001b[0m\n\u001b[1;32m   1030\u001b[0m     \u001b[0;32mif\u001b[0m \u001b[0mhandle\u001b[0m \u001b[0;32mis\u001b[0m \u001b[0;32mNone\u001b[0m\u001b[0;34m:\u001b[0m\u001b[0;34m\u001b[0m\u001b[0m\n\u001b[1;32m   1031\u001b[0m       return self._do_call(_run_fn, self._session, feed_dict, fetch_list,\n\u001b[0;32m-> 1032\u001b[0;31m                            target_list, options, run_metadata)\n\u001b[0m\u001b[1;32m   1033\u001b[0m     \u001b[0;32melse\u001b[0m\u001b[0;34m:\u001b[0m\u001b[0;34m\u001b[0m\u001b[0m\n\u001b[1;32m   1034\u001b[0m       return self._do_call(_prun_fn, self._session, handle, feed_dict,\n",
      "\u001b[0;32m/hanmail/.pyenv/versions/anaconda3-4.3.1/lib/python3.6/site-packages/tensorflow/python/client/session.py\u001b[0m in \u001b[0;36m_do_call\u001b[0;34m(self, fn, *args)\u001b[0m\n\u001b[1;32m   1037\u001b[0m   \u001b[0;32mdef\u001b[0m \u001b[0m_do_call\u001b[0m\u001b[0;34m(\u001b[0m\u001b[0mself\u001b[0m\u001b[0;34m,\u001b[0m \u001b[0mfn\u001b[0m\u001b[0;34m,\u001b[0m \u001b[0;34m*\u001b[0m\u001b[0margs\u001b[0m\u001b[0;34m)\u001b[0m\u001b[0;34m:\u001b[0m\u001b[0;34m\u001b[0m\u001b[0m\n\u001b[1;32m   1038\u001b[0m     \u001b[0;32mtry\u001b[0m\u001b[0;34m:\u001b[0m\u001b[0;34m\u001b[0m\u001b[0m\n\u001b[0;32m-> 1039\u001b[0;31m       \u001b[0;32mreturn\u001b[0m \u001b[0mfn\u001b[0m\u001b[0;34m(\u001b[0m\u001b[0;34m*\u001b[0m\u001b[0margs\u001b[0m\u001b[0;34m)\u001b[0m\u001b[0;34m\u001b[0m\u001b[0m\n\u001b[0m\u001b[1;32m   1040\u001b[0m     \u001b[0;32mexcept\u001b[0m \u001b[0merrors\u001b[0m\u001b[0;34m.\u001b[0m\u001b[0mOpError\u001b[0m \u001b[0;32mas\u001b[0m \u001b[0me\u001b[0m\u001b[0;34m:\u001b[0m\u001b[0;34m\u001b[0m\u001b[0m\n\u001b[1;32m   1041\u001b[0m       \u001b[0mmessage\u001b[0m \u001b[0;34m=\u001b[0m \u001b[0mcompat\u001b[0m\u001b[0;34m.\u001b[0m\u001b[0mas_text\u001b[0m\u001b[0;34m(\u001b[0m\u001b[0me\u001b[0m\u001b[0;34m.\u001b[0m\u001b[0mmessage\u001b[0m\u001b[0;34m)\u001b[0m\u001b[0;34m\u001b[0m\u001b[0m\n",
      "\u001b[0;32m/hanmail/.pyenv/versions/anaconda3-4.3.1/lib/python3.6/site-packages/tensorflow/python/client/session.py\u001b[0m in \u001b[0;36m_run_fn\u001b[0;34m(session, feed_dict, fetch_list, target_list, options, run_metadata)\u001b[0m\n\u001b[1;32m   1019\u001b[0m         return tf_session.TF_Run(session, options,\n\u001b[1;32m   1020\u001b[0m                                  \u001b[0mfeed_dict\u001b[0m\u001b[0;34m,\u001b[0m \u001b[0mfetch_list\u001b[0m\u001b[0;34m,\u001b[0m \u001b[0mtarget_list\u001b[0m\u001b[0;34m,\u001b[0m\u001b[0;34m\u001b[0m\u001b[0m\n\u001b[0;32m-> 1021\u001b[0;31m                                  status, run_metadata)\n\u001b[0m\u001b[1;32m   1022\u001b[0m \u001b[0;34m\u001b[0m\u001b[0m\n\u001b[1;32m   1023\u001b[0m     \u001b[0;32mdef\u001b[0m \u001b[0m_prun_fn\u001b[0m\u001b[0;34m(\u001b[0m\u001b[0msession\u001b[0m\u001b[0;34m,\u001b[0m \u001b[0mhandle\u001b[0m\u001b[0;34m,\u001b[0m \u001b[0mfeed_dict\u001b[0m\u001b[0;34m,\u001b[0m \u001b[0mfetch_list\u001b[0m\u001b[0;34m)\u001b[0m\u001b[0;34m:\u001b[0m\u001b[0;34m\u001b[0m\u001b[0m\n",
      "\u001b[0;31mKeyboardInterrupt\u001b[0m: "
     ]
    }
   ],
   "source": [
    "from IPython.display import clear_output\n",
    "from tqdm import tqdm,trange #or use tqdm_notebook,tnrange\n",
    "\n",
    "loss_history=[]\n",
    "editdist_history = []\n",
    "tf.reset_default_graph()\n",
    "seq2seq = Seq2SeqModel(hparams)\n",
    "seq2seq.build_graph()\n",
    "\n",
    "sess = tf.Session()\n",
    "sess.run(tf.global_variables_initializer())\n",
    "#seq2seq.restore(saver, sess)\n",
    "for i in trange(25000):\n",
    "    loss_history.append(\n",
    "             seq2seq.train_step(sess, *sample_batch(train_words,word_to_translation,32)))\n",
    "        \n",
    "    if (i+1)%REPORT_FREQ==0:\n",
    "    #if False:\n",
    "            seq2seq.save(sess)\n",
    "            sess.close()\n",
    "            \n",
    "            tf.reset_default_graph()\n",
    "            sess = tf.Session()\n",
    "            \n",
    "            seq2seq_inference = Seq2SeqModel(hparams, mode='inference')\n",
    "            seq2seq_inference.build_graph()\n",
    "            seq2seq_inference.restore(sess)\n",
    "                \n",
    "            clear_output(True)\n",
    "            current_scores = score(sess, seq2seq_inference)\n",
    "            editdist_history.append(current_scores.mean())\n",
    "            plt.figure(figsize=(8,4))\n",
    "            plt.subplot(121)\n",
    "            plt.title('val score distribution')\n",
    "            plt.hist(current_scores, bins = 20)\n",
    "            plt.subplot(122)\n",
    "            plt.title('val score / traning time')\n",
    "            plt.plot(editdist_history)\n",
    "            plt.grid()\n",
    "            plt.show()\n",
    "            print(\"llh=%.3f, mean score=%.3f\"%(np.mean(loss_history[-10:]),np.mean(editdist_history[-10:])))\n",
    "            tf.reset_default_graph()\n",
    "            seq2seq = Seq2SeqModel(hparams)\n",
    "            seq2seq.build_graph()\n",
    "            sess = tf.Session()\n",
    "            seq2seq.restore(sess)\n",
    "\n",
    "seq2seq.save(sess)\n",
    "sess.close()"
   ]
  },
  {
   "cell_type": "code",
   "execution_count": 98,
   "metadata": {
    "scrolled": true
   },
   "outputs": [
    {
     "name": "stdout",
     "output_type": "stream",
     "text": [
      "INFO:tensorflow:Restoring parameters from ./ckpt_dir/model2.ckpt\n",
      "Restore Finished!\n",
      "עלי נאסר; -> ali nesser;\n",
      "קטגוריה:בלפסט; -> belfstet;\n",
      "ארבינקא; -> arbinaka;\n",
      "זיכרון נוהלי; -> zicron nolly;\n",
      "scar tissue; -> scart stisso;\n",
      "עמק האלבה בדרזדן; -> amar bender;\n",
      "ז'ורז' בולנז'ה; -> georges bollanze;\n",
      "מילקן; -> milken;\n",
      "כביש 73; -> housh 30;\n",
      "אלין; -> elin;\n"
     ]
    }
   ],
   "source": [
    "tf.reset_default_graph()\n",
    "seq2seq_inference = Seq2SeqModel(hparams, mode='inference')\n",
    "seq2seq_inference.build_graph()\n",
    "\n",
    "with tf.Session() as sess:\n",
    "    seq2seq_inference.restore(sess)\n",
    "    \n",
    "    for word in train_words[:10]:\n",
    "        print(\"%s -> %s\"%(word,seq2seq_inference.translate(sess, word)))"
   ]
  },
  {
   "cell_type": "markdown",
   "metadata": {
    "collapsed": true
   },
   "source": [
    "## Step 5: 정책 그라디언트(Policy gradient )\n",
    "\n",
    "손실(loss) 함수를 정의 할 필요가 있다.\n",
    "\n",
    "우리 작업은 단어와 번역 행렬들을 입력으로 가지고 그것들을 실제 단어 그리고 음절로 변환하고 위에 get_distance 함수를 통해서 min-levenshtein를 계산하는 _compute_levenshtein을 구현하는 것이다."
   ]
  },
  {
   "cell_type": "code",
   "execution_count": 99,
   "metadata": {
    "collapsed": true
   },
   "outputs": [],
   "source": [
    "def get_mask_by_eos(is_eos):\n",
    "    \"\"\" \"지금 부터 끝이다\"의 표시를 가지고, mask를 리턴한다. \n",
    "    첫번째 마지막이후로 모든것을 무시한다. \n",
    "    [[False,False,True,True]] -> [[1,1,1,0]]\n",
    "    \"\"\"\n",
    "    assert is_eos.ndim==2\n",
    "    is_right_after_eos = np.concatenate([np.zeros_like(is_eos[:,:1]),is_eos[:,:-1]],-1)\n",
    "    is_after_eos = np.equal(np.cumsum(is_right_after_eos,axis=-1), 0).astype('uint8')\n",
    "    return is_after_eos\n"
   ]
  },
  {
   "cell_type": "code",
   "execution_count": 100,
   "metadata": {
    "collapsed": true
   },
   "outputs": [],
   "source": [
    "def compute_levenshtein(words_ix,words_mask,trans_ix,trans_mask):\n",
    "    \"\"\"\n",
    "    예측된 번역에 대한 levenshtein 손실을 계산하는 커스텀 theano 연산이다.\n",
    "    \n",
    "    Params:\n",
    "    - words_ix - 문자 인덱스 행렬, shape=[batch_size, word_length]\n",
    "    - words_mask - 0과1로 구성된 행렬,\n",
    "        1은 단어는 아직 끝나지 않았음을 의미한다.\n",
    "        0은 단어는 이미 끝나고 이것은 패딩이다는 것을 의미한다.\n",
    "    -trans_ix - 결과 문자 인덱스 행렬, shape=[batch_size,translation_length]\n",
    "    -trans_mask - 0과1로 구성된 행렬 word_mask와 유사하다. 그러나 tans_ix를 위한 것이다.\n",
    "    \n",
    "    \"\"\"\n",
    "    \n",
    "    words = []\n",
    "    for i, letters_ix in enumerate(words_ix):\n",
    "        word = ''.join([source_letters[letter_ix] for letter_ix in letters_ix][:sum(words_mask[i])])\n",
    "        words.append(word)\n",
    "        \n",
    "    assert type(words) is list\n",
    "    assert type(words[0]) is str \n",
    "    assert len(words)==len(words_ix)\n",
    "    \n",
    "    #convert translations to lists    \n",
    "    translations = []\n",
    "    for i, tran_ix in enumerate(trans_ix):\n",
    "        tran = ''.join([target_letters[letter_ix] for letter_ix in tran_ix][:sum(trans_mask[i])])\n",
    "        translations.append(tran)\n",
    "    \n",
    "        \n",
    "    assert type(translations) is list\n",
    "    assert type(translations[0]) is str\n",
    "    assert len(translations)==len(trans_ix)\n",
    "\n",
    "    distances = [get_distance(w,t) for w, t in zip(words, translations)]\n",
    "    \n",
    "    assert type(distances) in (list,tuple,np.ndarray) and len(distances) == len(words_ix)\n",
    "    \n",
    "    distances = np.array(list(distances),dtype='float32')\n",
    "    return distances"
   ]
  },
  {
   "cell_type": "code",
   "execution_count": 101,
   "metadata": {
    "collapsed": true
   },
   "outputs": [],
   "source": [
    "#test suite\n",
    "#sample random batch of (words, correct trans, wrong trans)\n",
    "batch_words = np.random.choice(train_words, size=100 )\n",
    "batch_trans = list(map(random.choice,map(word_to_translation.get,batch_words )))\n",
    "batch_trans_wrong = np.random.choice(all_translations,size=100)\n",
    "\n",
    "batch_words_ix = as_matrix(batch_words,source_to_ix)\n",
    "batch_trans_ix = as_matrix(batch_trans,target_to_ix)\n",
    "batch_trans_wrong_ix = as_matrix(batch_trans_wrong,target_to_ix)\n",
    "\n",
    "batch_words_mask = get_mask_by_eos(np.equal(batch_words_ix,EOS_ix_source))\n",
    "batch_trans_mask = get_mask_by_eos(np.equal(batch_trans_ix,EOS_ix_target))\n",
    "batch_trans_wrong_mask = get_mask_by_eos(np.equal(batch_trans_wrong_ix,EOS_ix_target))"
   ]
  },
  {
   "cell_type": "code",
   "execution_count": 102,
   "metadata": {},
   "outputs": [
    {
     "name": "stdout",
     "output_type": "stream",
     "text": [
      "Everything seems alright!\n"
     ]
    }
   ],
   "source": [
    "#assert compute_levenshtein is zero for ideal translations\n",
    "correct_answers_score = compute_levenshtein(batch_words_ix,batch_words_mask,\n",
    "                                            batch_trans_ix,batch_trans_mask)\n",
    "\n",
    "assert np.all(correct_answers_score==0),\"a perfect translation got nonzero levenshtein score!\"\n",
    "\n",
    "print(\"Everything seems alright!\")"
   ]
  },
  {
   "cell_type": "code",
   "execution_count": 103,
   "metadata": {},
   "outputs": [
    {
     "name": "stdout",
     "output_type": "stream",
     "text": [
      "Everything seems alright!\n"
     ]
    }
   ],
   "source": [
    "#assert compute_levenshtein matches actual scoring function\n",
    "wrong_answers_score = compute_levenshtein(batch_words_ix,batch_words_mask,\n",
    "                                            batch_trans_wrong_ix,batch_trans_wrong_mask)\n",
    "\n",
    "true_wrong_answers_score = np.array(list(map(get_distance,batch_words,batch_trans_wrong)))\n",
    "\n",
    "assert np.all(wrong_answers_score==true_wrong_answers_score),\"for some word symbolic levenshtein is different from actual levenshtein distance\"\n",
    "\n",
    "print(\"Everything seems alright!\")"
   ]
  },
  {
   "cell_type": "markdown",
   "metadata": {},
   "source": [
    "## Self-critical policy gradient\n",
    "이 섹션에서, self-critical sequence학습이라고 하는 알고리즘을 구현할 것이다.\n",
    "이 알고리즘은 특별한 베이스라인을 가진 바닐라 정책 그라디언트이다.\n",
    "\n",
    "$$ \\nabla J = E_{x \\sim p(s)} E_{y \\sim \\pi(y|x)} \\nabla log \\pi(y|x) \\cdot (R(x,y) - b(x)) $$\n",
    "\n",
    "여기서 R(x,y)는 네가티브 levenshtein distance 이다(그것을 최소화 하기 때문이다). 베이스라인 b(x)는 단어 x에 대하 모델이 얼마나 되는지 나타낸다. 실제적으로, 이것은 그라디(greedy) 번역 점수로써 베이스라인을 계산한다는 것을 의미한다, $b(x) = R(x,y_{greedy}(x)) $."
   ]
  },
  {
   "cell_type": "code",
   "execution_count": 104,
   "metadata": {
    "collapsed": true
   },
   "outputs": [],
   "source": [
    "# create params\n",
    "def create_hparams():\n",
    "    return HParams(\n",
    "        cell=hparams.cell,\n",
    "        batch_size=hparams.batch_size,\n",
    "        layers=hparams.layers,\n",
    "        attention=hparams.attention,\n",
    "        eval_batch_size=hparams.eval_batch_size,\n",
    "        optimizer=hparams.optimizer,\n",
    "        optimizer_clip_gradients = hparams.optimizer_clip_gradients,\n",
    "        learning_rate=0.00001,\n",
    "        enc_embedding_dim=hparams.enc_embedding_dim,\n",
    "        dec_embedding_dim=hparams.dec_embedding_dim,\n",
    "        hidden_size=hparams.hidden_size,\n",
    "        attn_size=hparams.attn_size,\n",
    "        max_source_len=hparams.max_source_len,\n",
    "        max_target_len=MAX_OUTPUT_LENGTH,\n",
    "        ckpt_path='./ckpt_dir/model2.ckpt')\n",
    "\n",
    "hparams2 = create_hparams()"
   ]
  },
  {
   "cell_type": "markdown",
   "metadata": {},
   "source": [
    "## 정책 그라디언트 학습(Policy gradient training)"
   ]
  },
  {
   "cell_type": "code",
   "execution_count": 105,
   "metadata": {},
   "outputs": [
    {
     "data": {
      "image/png": "[encoded data removed]",
      "text/plain": [
       "<matplotlib.figure.Figure at 0x7fe2fa78e5f8>"
      ]
     },
     "metadata": {},
     "output_type": "display_data"
    },
    {
     "name": "stdout",
     "output_type": "stream",
     "text": [
      "J=6.927, mean score=6.564\n",
      "INFO:tensorflow:Restoring parameters from ./ckpt_dir/model2.ckpt\n"
     ]
    },
    {
     "name": "stderr",
     "output_type": "stream",
     "text": [
      "\r",
      "  2%|▏         | 1800/100000 [04:53<36:49:28,  1.35s/it]"
     ]
    },
    {
     "name": "stdout",
     "output_type": "stream",
     "text": [
      "Restore Finished!\n"
     ]
    },
    {
     "name": "stderr",
     "output_type": "stream",
     "text": [
      "  2%|▏         | 1830/100000 [04:56<3:02:43,  8.95it/s] "
     ]
    },
    {
     "ename": "KeyboardInterrupt",
     "evalue": "",
     "output_type": "error",
     "traceback": [
      "\u001b[0;31m---------------------------------------------------------------------------\u001b[0m",
      "\u001b[0;31mKeyboardInterrupt\u001b[0m                         Traceback (most recent call last)",
      "\u001b[0;32m<ipython-input-105-07177263f5ec>\u001b[0m in \u001b[0;36m<module>\u001b[0;34m()\u001b[0m\n\u001b[1;32m     16\u001b[0m         \u001b[0minputs\u001b[0m\u001b[0;34m,\u001b[0m \u001b[0minputs_len\u001b[0m\u001b[0;34m,\u001b[0m \u001b[0mtargets\u001b[0m\u001b[0;34m,\u001b[0m \u001b[0mtargets_len\u001b[0m \u001b[0;34m=\u001b[0m \u001b[0msample_batch\u001b[0m\u001b[0;34m(\u001b[0m\u001b[0mtrain_words\u001b[0m\u001b[0;34m,\u001b[0m \u001b[0mword_to_translation\u001b[0m\u001b[0;34m,\u001b[0m\u001b[0;36m32\u001b[0m\u001b[0;34m)\u001b[0m\u001b[0;34m\u001b[0m\u001b[0m\n\u001b[1;32m     17\u001b[0m         loss_history.append(\n\u001b[0;32m---> 18\u001b[0;31m             \u001b[0mseq2seq\u001b[0m\u001b[0;34m.\u001b[0m\u001b[0mrl_train_step\u001b[0m\u001b[0;34m(\u001b[0m\u001b[0msess\u001b[0m\u001b[0;34m,\u001b[0m \u001b[0minputs\u001b[0m\u001b[0;34m,\u001b[0m \u001b[0minputs_len\u001b[0m\u001b[0;34m,\u001b[0m \u001b[0mtargets\u001b[0m\u001b[0;34m,\u001b[0m \u001b[0mtargets_len\u001b[0m\u001b[0;34m)\u001b[0m\u001b[0;34m\u001b[0m\u001b[0m\n\u001b[0m\u001b[1;32m     19\u001b[0m             )\n\u001b[1;32m     20\u001b[0m         \u001b[0;31m#print(\"infer:\", seq2seq_inferencer.infer(sess, inputs, inputs_len))\u001b[0m\u001b[0;34m\u001b[0m\u001b[0;34m\u001b[0m\u001b[0m\n",
      "\u001b[0;32m<ipython-input-95-f36b65869406>\u001b[0m in \u001b[0;36mrl_train_step\u001b[0;34m(self, sess, inputs, inputs_len, targets, targets_len)\u001b[0m\n\u001b[1;32m    434\u001b[0m         \u001b[0;31m#feed_dict.update({self.advantage:advantage})\u001b[0m\u001b[0;34m\u001b[0m\u001b[0;34m\u001b[0m\u001b[0m\n\u001b[1;32m    435\u001b[0m \u001b[0;34m\u001b[0m\u001b[0m\n\u001b[0;32m--> 436\u001b[0;31m         \u001b[0mpreds\u001b[0m\u001b[0;34m,\u001b[0m \u001b[0m_\u001b[0m\u001b[0;34m,\u001b[0m \u001b[0mloss\u001b[0m \u001b[0;34m=\u001b[0m \u001b[0msess\u001b[0m\u001b[0;34m.\u001b[0m\u001b[0mrun\u001b[0m\u001b[0;34m(\u001b[0m\u001b[0;34m[\u001b[0m\u001b[0mself\u001b[0m\u001b[0;34m.\u001b[0m\u001b[0mpredictions\u001b[0m\u001b[0;34m,\u001b[0m \u001b[0mself\u001b[0m\u001b[0;34m.\u001b[0m\u001b[0mtrain_op\u001b[0m\u001b[0;34m,\u001b[0m \u001b[0mself\u001b[0m\u001b[0;34m.\u001b[0m\u001b[0mloss\u001b[0m\u001b[0;34m]\u001b[0m\u001b[0;34m,\u001b[0m \u001b[0mfeed_dict\u001b[0m\u001b[0;34m=\u001b[0m\u001b[0mfeed_dict\u001b[0m\u001b[0;34m)\u001b[0m\u001b[0;34m\u001b[0m\u001b[0m\n\u001b[0m\u001b[1;32m    437\u001b[0m \u001b[0;34m\u001b[0m\u001b[0m\n\u001b[1;32m    438\u001b[0m         \u001b[0;32mreturn\u001b[0m \u001b[0mloss\u001b[0m\u001b[0;34m\u001b[0m\u001b[0m\n",
      "\u001b[0;32m/hanmail/.pyenv/versions/anaconda3-4.3.1/lib/python3.6/site-packages/tensorflow/python/client/session.py\u001b[0m in \u001b[0;36mrun\u001b[0;34m(self, fetches, feed_dict, options, run_metadata)\u001b[0m\n\u001b[1;32m    776\u001b[0m     \u001b[0;32mtry\u001b[0m\u001b[0;34m:\u001b[0m\u001b[0;34m\u001b[0m\u001b[0m\n\u001b[1;32m    777\u001b[0m       result = self._run(None, fetches, feed_dict, options_ptr,\n\u001b[0;32m--> 778\u001b[0;31m                          run_metadata_ptr)\n\u001b[0m\u001b[1;32m    779\u001b[0m       \u001b[0;32mif\u001b[0m \u001b[0mrun_metadata\u001b[0m\u001b[0;34m:\u001b[0m\u001b[0;34m\u001b[0m\u001b[0m\n\u001b[1;32m    780\u001b[0m         \u001b[0mproto_data\u001b[0m \u001b[0;34m=\u001b[0m \u001b[0mtf_session\u001b[0m\u001b[0;34m.\u001b[0m\u001b[0mTF_GetBuffer\u001b[0m\u001b[0;34m(\u001b[0m\u001b[0mrun_metadata_ptr\u001b[0m\u001b[0;34m)\u001b[0m\u001b[0;34m\u001b[0m\u001b[0m\n",
      "\u001b[0;32m/hanmail/.pyenv/versions/anaconda3-4.3.1/lib/python3.6/site-packages/tensorflow/python/client/session.py\u001b[0m in \u001b[0;36m_run\u001b[0;34m(self, handle, fetches, feed_dict, options, run_metadata)\u001b[0m\n\u001b[1;32m    980\u001b[0m     \u001b[0;32mif\u001b[0m \u001b[0mfinal_fetches\u001b[0m \u001b[0;32mor\u001b[0m \u001b[0mfinal_targets\u001b[0m\u001b[0;34m:\u001b[0m\u001b[0;34m\u001b[0m\u001b[0m\n\u001b[1;32m    981\u001b[0m       results = self._do_run(handle, final_targets, final_fetches,\n\u001b[0;32m--> 982\u001b[0;31m                              feed_dict_string, options, run_metadata)\n\u001b[0m\u001b[1;32m    983\u001b[0m     \u001b[0;32melse\u001b[0m\u001b[0;34m:\u001b[0m\u001b[0;34m\u001b[0m\u001b[0m\n\u001b[1;32m    984\u001b[0m       \u001b[0mresults\u001b[0m \u001b[0;34m=\u001b[0m \u001b[0;34m[\u001b[0m\u001b[0;34m]\u001b[0m\u001b[0;34m\u001b[0m\u001b[0m\n",
      "\u001b[0;32m/hanmail/.pyenv/versions/anaconda3-4.3.1/lib/python3.6/site-packages/tensorflow/python/client/session.py\u001b[0m in \u001b[0;36m_do_run\u001b[0;34m(self, handle, target_list, fetch_list, feed_dict, options, run_metadata)\u001b[0m\n\u001b[1;32m   1030\u001b[0m     \u001b[0;32mif\u001b[0m \u001b[0mhandle\u001b[0m \u001b[0;32mis\u001b[0m \u001b[0;32mNone\u001b[0m\u001b[0;34m:\u001b[0m\u001b[0;34m\u001b[0m\u001b[0m\n\u001b[1;32m   1031\u001b[0m       return self._do_call(_run_fn, self._session, feed_dict, fetch_list,\n\u001b[0;32m-> 1032\u001b[0;31m                            target_list, options, run_metadata)\n\u001b[0m\u001b[1;32m   1033\u001b[0m     \u001b[0;32melse\u001b[0m\u001b[0;34m:\u001b[0m\u001b[0;34m\u001b[0m\u001b[0m\n\u001b[1;32m   1034\u001b[0m       return self._do_call(_prun_fn, self._session, handle, feed_dict,\n",
      "\u001b[0;32m/hanmail/.pyenv/versions/anaconda3-4.3.1/lib/python3.6/site-packages/tensorflow/python/client/session.py\u001b[0m in \u001b[0;36m_do_call\u001b[0;34m(self, fn, *args)\u001b[0m\n\u001b[1;32m   1037\u001b[0m   \u001b[0;32mdef\u001b[0m \u001b[0m_do_call\u001b[0m\u001b[0;34m(\u001b[0m\u001b[0mself\u001b[0m\u001b[0;34m,\u001b[0m \u001b[0mfn\u001b[0m\u001b[0;34m,\u001b[0m \u001b[0;34m*\u001b[0m\u001b[0margs\u001b[0m\u001b[0;34m)\u001b[0m\u001b[0;34m:\u001b[0m\u001b[0;34m\u001b[0m\u001b[0m\n\u001b[1;32m   1038\u001b[0m     \u001b[0;32mtry\u001b[0m\u001b[0;34m:\u001b[0m\u001b[0;34m\u001b[0m\u001b[0m\n\u001b[0;32m-> 1039\u001b[0;31m       \u001b[0;32mreturn\u001b[0m \u001b[0mfn\u001b[0m\u001b[0;34m(\u001b[0m\u001b[0;34m*\u001b[0m\u001b[0margs\u001b[0m\u001b[0;34m)\u001b[0m\u001b[0;34m\u001b[0m\u001b[0m\n\u001b[0m\u001b[1;32m   1040\u001b[0m     \u001b[0;32mexcept\u001b[0m \u001b[0merrors\u001b[0m\u001b[0;34m.\u001b[0m\u001b[0mOpError\u001b[0m \u001b[0;32mas\u001b[0m \u001b[0me\u001b[0m\u001b[0;34m:\u001b[0m\u001b[0;34m\u001b[0m\u001b[0m\n\u001b[1;32m   1041\u001b[0m       \u001b[0mmessage\u001b[0m \u001b[0;34m=\u001b[0m \u001b[0mcompat\u001b[0m\u001b[0;34m.\u001b[0m\u001b[0mas_text\u001b[0m\u001b[0;34m(\u001b[0m\u001b[0me\u001b[0m\u001b[0;34m.\u001b[0m\u001b[0mmessage\u001b[0m\u001b[0;34m)\u001b[0m\u001b[0;34m\u001b[0m\u001b[0m\n",
      "\u001b[0;32m/hanmail/.pyenv/versions/anaconda3-4.3.1/lib/python3.6/site-packages/tensorflow/python/client/session.py\u001b[0m in \u001b[0;36m_run_fn\u001b[0;34m(session, feed_dict, fetch_list, target_list, options, run_metadata)\u001b[0m\n\u001b[1;32m   1019\u001b[0m         return tf_session.TF_Run(session, options,\n\u001b[1;32m   1020\u001b[0m                                  \u001b[0mfeed_dict\u001b[0m\u001b[0;34m,\u001b[0m \u001b[0mfetch_list\u001b[0m\u001b[0;34m,\u001b[0m \u001b[0mtarget_list\u001b[0m\u001b[0;34m,\u001b[0m\u001b[0;34m\u001b[0m\u001b[0m\n\u001b[0;32m-> 1021\u001b[0;31m                                  status, run_metadata)\n\u001b[0m\u001b[1;32m   1022\u001b[0m \u001b[0;34m\u001b[0m\u001b[0m\n\u001b[1;32m   1023\u001b[0m     \u001b[0;32mdef\u001b[0m \u001b[0m_prun_fn\u001b[0m\u001b[0;34m(\u001b[0m\u001b[0msession\u001b[0m\u001b[0;34m,\u001b[0m \u001b[0mhandle\u001b[0m\u001b[0;34m,\u001b[0m \u001b[0mfeed_dict\u001b[0m\u001b[0;34m,\u001b[0m \u001b[0mfetch_list\u001b[0m\u001b[0;34m)\u001b[0m\u001b[0;34m:\u001b[0m\u001b[0;34m\u001b[0m\u001b[0m\n",
      "\u001b[0;31mKeyboardInterrupt\u001b[0m: "
     ]
    }
   ],
   "source": [
    "#REPORT_FREQ=1\n",
    "tf.reset_default_graph()\n",
    "seq2seq = Seq2SeqModel(hparams2)\n",
    "seq2seq.build_graph()\n",
    "\n",
    "sess = tf.Session()\n",
    "seq2seq.restore(sess)\n",
    "    #tvars = tf.trainable_variables()\n",
    "    #tvars_vals = sess.run(tvars)\n",
    "    \n",
    "    #for var, val in zip(tvars, tvars_vals):\n",
    "    #    print(var.name, val)\n",
    "    \n",
    "for i in trange(100000):\n",
    "        #for i in trange(200):\n",
    "        inputs, inputs_len, targets, targets_len = sample_batch(train_words, word_to_translation,32)\n",
    "        loss_history.append(\n",
    "            seq2seq.rl_train_step(sess, inputs, inputs_len, targets, targets_len)\n",
    "            )\n",
    "        #print(\"infer:\", seq2seq_inferencer.infer(sess, inputs, inputs_len))\n",
    "        \n",
    "        if (i+1)%REPORT_FREQ==0:\n",
    "        #if (i+1)%10 == 0:\n",
    "            #seq2seq.save(sess)\n",
    "            sess.close()\n",
    "            \n",
    "            tf.reset_default_graph()\n",
    "            seq2seq_inferencer = Seq2SeqModel(hparams2, mode='inference')\n",
    "            seq2seq_inferencer.build_graph()\n",
    "            sess = tf.Session()\n",
    "            seq2seq_inferencer.restore(sess)\n",
    "            \n",
    "            clear_output(True)\n",
    "            current_scores = score(sess, seq2seq_inferencer)\n",
    "            editdist_history.append(current_scores.mean())\n",
    "            plt.figure(figsize=(8,4))\n",
    "            plt.subplot(121)\n",
    "            plt.title('val score distribution')\n",
    "            plt.hist(current_scores, bins = 20)\n",
    "            plt.subplot(122)\n",
    "            plt.title('val score / traning time')\n",
    "            plt.plot(editdist_history)\n",
    "            plt.grid()\n",
    "            plt.show()\n",
    "            print(\"J=%.3f, mean score=%.3f\"%(np.mean(loss_history[-10:]),np.mean(editdist_history[-10:])))\n",
    "            sess.close()\n",
    "            tf.reset_default_graph()\n",
    "            \n",
    "            seq2seq = Seq2SeqModel(hparams2)\n",
    "            seq2seq.build_graph()\n",
    "\n",
    "            sess = tf.Session()\n",
    "            seq2seq.restore(sess)\n"
   ]
  },
  {
   "cell_type": "markdown",
   "metadata": {},
   "source": [
    "## 결과"
   ]
  },
  {
   "cell_type": "code",
   "execution_count": 177,
   "metadata": {},
   "outputs": [
    {
     "name": "stdout",
     "output_type": "stream",
     "text": [
      "INFO:tensorflow:Restoring parameters from ./ckpt_dir/model.ckpt\n",
      "Restore Finished!\n",
      "example;\n"
     ]
    }
   ],
   "source": [
    "seq2seq_inferencer = Seq2SeqModel(hparams2, mode='inference')\n",
    "seq2seq_inferencer.build_graph()\n",
    "saver = tf.train.Saver()\n",
    "with tf.Session() as sess:\n",
    "    seq2seq_inferencer.restore(saver, sess)\n",
    "    print(seq2seq_inferencer.translate(sess, \"EXAMPLE;\"))"
   ]
  },
  {
   "cell_type": "code",
   "execution_count": 1,
   "metadata": {
    "collapsed": true
   },
   "outputs": [],
   "source": [
    "#predicted_translations = list(map(model.translate,tqdm(test_words)))\n",
    "#distances = map(get_score,test_words,predicted_translations)\n",
    "\n",
    "#print (\"Mean Levenshtein distance:\",np.mean(distances))\n",
    "#print (\"Median Levenshtein distance:\",np.median(distances))\n",
    "#plt.hist(distances,range=[0,10]);"
   ]
  },
  {
   "cell_type": "markdown",
   "metadata": {},
   "source": []
  }
 ],
 "metadata": {
  "kernelspec": {
   "display_name": "Python 3",
   "language": "python",
   "name": "python3"
  },
  "language_info": {
   "codemirror_mode": {
    "name": "ipython",
    "version": 3
   },
   "file_extension": ".py",
   "mimetype": "text/x-python",
   "name": "python",
   "nbconvert_exporter": "python",
   "pygments_lexer": "ipython3",
   "version": "3.6.0"
  }
 },
 "nbformat": 4,
 "nbformat_minor": 2
}
